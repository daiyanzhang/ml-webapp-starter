{
 "cells": [
  {
   "cell_type": "markdown",
   "id": "cell-0",
   "metadata": {},
   "source": "# Ray Distributed Computing Demo\n\nThis notebook demonstrates how to run distributed computing tasks on Ray clusters through Jupyter notebooks.\n\n## Features:\n- **Magic commands** for seamless Ray integration\n- **Distributed execution** on remote Ray clusters  \n- **Automatic output capture** including plots and results\n- **Scalable computing** for large datasets and complex algorithms\n\n## Available Commands:\n- `%ray_status` - Check Ray cluster status\n- `%ray_jobs` - List Ray jobs\n- `%%ray_exec` - Execute cell code on Ray cluster\n- `%ray_result <job_id>` - Get Ray job result"
  },
  {
   "cell_type": "code",
   "execution_count": 2,
   "id": "cell-1",
   "metadata": {},
   "outputs": [
    {
     "ename": "ImportError",
     "evalue": "cannot import name 'parse_argline' from 'IPython.core.magic_arguments' (/opt/conda/lib/python3.11/site-packages/IPython/core/magic_arguments.py)",
     "output_type": "error",
     "traceback": [
      "\u001b[0;31m---------------------------------------------------------------------------\u001b[0m",
      "\u001b[0;31mImportError\u001b[0m                               Traceback (most recent call last)",
      "Cell \u001b[0;32mIn[2], line 2\u001b[0m\n\u001b[1;32m      1\u001b[0m \u001b[38;5;66;03m# Load Ray magic commands\u001b[39;00m\n\u001b[0;32m----> 2\u001b[0m \u001b[38;5;28;01mfrom\u001b[39;00m\u001b[38;5;250m \u001b[39m\u001b[38;5;21;01mutils\u001b[39;00m\u001b[38;5;21;01m.\u001b[39;00m\u001b[38;5;21;01mnotebook_ray_magic\u001b[39;00m\u001b[38;5;250m \u001b[39m\u001b[38;5;28;01mimport\u001b[39;00m load_ray_magic\n\u001b[1;32m      3\u001b[0m load_ray_magic()\n\u001b[1;32m      5\u001b[0m \u001b[38;5;28mprint\u001b[39m(\u001b[38;5;124m\"\u001b[39m\u001b[38;5;124mRay magic commands loaded successfully!\u001b[39m\u001b[38;5;124m\"\u001b[39m)\n",
      "File \u001b[0;32m~/work/utils/notebook_ray_magic.py:13\u001b[0m\n\u001b[1;32m     11\u001b[0m \u001b[38;5;28;01mfrom\u001b[39;00m\u001b[38;5;250m \u001b[39m\u001b[38;5;21;01mIPython\u001b[39;00m\u001b[38;5;21;01m.\u001b[39;00m\u001b[38;5;21;01mcore\u001b[39;00m\u001b[38;5;21;01m.\u001b[39;00m\u001b[38;5;21;01mmagic\u001b[39;00m\u001b[38;5;250m \u001b[39m\u001b[38;5;28;01mimport\u001b[39;00m Magics, magics_class, cell_magic, line_magic\n\u001b[1;32m     12\u001b[0m \u001b[38;5;28;01mfrom\u001b[39;00m\u001b[38;5;250m \u001b[39m\u001b[38;5;21;01mIPython\u001b[39;00m\u001b[38;5;21;01m.\u001b[39;00m\u001b[38;5;21;01mdisplay\u001b[39;00m\u001b[38;5;250m \u001b[39m\u001b[38;5;28;01mimport\u001b[39;00m display, HTML, Image\n\u001b[0;32m---> 13\u001b[0m \u001b[38;5;28;01mfrom\u001b[39;00m\u001b[38;5;250m \u001b[39m\u001b[38;5;21;01mIPython\u001b[39;00m\u001b[38;5;21;01m.\u001b[39;00m\u001b[38;5;21;01mcore\u001b[39;00m\u001b[38;5;21;01m.\u001b[39;00m\u001b[38;5;21;01mmagic_arguments\u001b[39;00m\u001b[38;5;250m \u001b[39m\u001b[38;5;28;01mimport\u001b[39;00m (argument, magic_arguments, parse_argline)\n\u001b[1;32m     14\u001b[0m \u001b[38;5;28;01mimport\u001b[39;00m\u001b[38;5;250m \u001b[39m\u001b[38;5;21;01mpandas\u001b[39;00m\u001b[38;5;250m \u001b[39m\u001b[38;5;28;01mas\u001b[39;00m\u001b[38;5;250m \u001b[39m\u001b[38;5;21;01mpd\u001b[39;00m\n\u001b[1;32m     15\u001b[0m \u001b[38;5;28;01mimport\u001b[39;00m\u001b[38;5;250m \u001b[39m\u001b[38;5;21;01mmatplotlib\u001b[39;00m\u001b[38;5;21;01m.\u001b[39;00m\u001b[38;5;21;01mpyplot\u001b[39;00m\u001b[38;5;250m \u001b[39m\u001b[38;5;28;01mas\u001b[39;00m\u001b[38;5;250m \u001b[39m\u001b[38;5;21;01mplt\u001b[39;00m\n",
      "\u001b[0;31mImportError\u001b[0m: cannot import name 'parse_argline' from 'IPython.core.magic_arguments' (/opt/conda/lib/python3.11/site-packages/IPython/core/magic_arguments.py)"
     ]
    }
   ],
   "source": [
    "# Load Ray magic commands\n",
    "from utils.notebook_ray_magic import load_ray_magic\n",
    "load_ray_magic()\n",
    "\n",
    "print(\"Ray magic commands loaded successfully!\")\n",
    "print(\"You can now use:\")\n",
    "print(\"  %ray_status     - Check Ray cluster status\")\n",
    "print(\"  %ray_jobs       - List Ray jobs\")\n",
    "print(\"  %%ray_exec      - Execute cell on Ray cluster\")\n",
    "print(\"  %ray_result     - Get Ray job result\")"
   ]
  },
  {
   "cell_type": "markdown",
   "id": "cell-2",
   "metadata": {},
   "source": [
    "## 1. Check Ray Cluster Status"
   ]
  },
  {
   "cell_type": "code",
   "execution_count": 2,
   "id": "cell-3",
   "metadata": {},
   "outputs": [
    {
     "name": "stderr",
     "output_type": "stream",
     "text": [
      "UsageError: Line magic function `%ray_status` not found.\n"
     ]
    }
   ],
   "source": [
    "%ray_status"
   ]
  },
  {
   "cell_type": "markdown",
   "id": "cell-4",
   "metadata": {},
   "source": [
    "## 2. List Current Ray Jobs"
   ]
  },
  {
   "cell_type": "code",
   "execution_count": null,
   "id": "cell-5",
   "metadata": {},
   "outputs": [],
   "source": [
    "%ray_jobs"
   ]
  },
  {
   "cell_type": "markdown",
   "id": "cell-6",
   "metadata": {},
   "source": [
    "## 3. Execute Code on Ray Cluster\n",
    "\n",
    "### Simple Computation Example"
   ]
  },
  {
   "cell_type": "code",
   "execution_count": null,
   "id": "cell-7",
   "metadata": {},
   "outputs": [],
   "source": [
    "%%ray_exec --name \"simple_computation\" --timeout 60\n",
    "import numpy as np\n",
    "import matplotlib.pyplot as plt\n",
    "\n",
    "# Generate sample data\n",
    "x = np.linspace(0, 2*np.pi, 100)\n",
    "y = np.sin(x)\n",
    "\n",
    "# Create plot\n",
    "plt.figure(figsize=(10, 6))\n",
    "plt.plot(x, y, 'b-', linewidth=2)\n",
    "plt.title('Sine Wave Computed on Ray Cluster')\n",
    "plt.xlabel('X')\n",
    "plt.ylabel('sin(X)')\n",
    "plt.grid(True)\n",
    "plt.show()\n",
    "\n",
    "print(f\"Computed {len(x)} points on Ray cluster!\")\n",
    "print(f\"Max value: {np.max(y):.3f}\")\n",
    "print(f\"Min value: {np.min(y):.3f}\")"
   ]
  },
  {
   "cell_type": "markdown",
   "id": "cell-8",
   "metadata": {},
   "source": [
    "### Parallel Monte Carlo Pi Estimation"
   ]
  },
  {
   "cell_type": "code",
   "execution_count": null,
   "id": "cell-9",
   "metadata": {},
   "outputs": [],
   "source": [
    "%%ray_exec --name \"monte_carlo_pi\" --timeout 120\n",
    "import ray\n",
    "import numpy as np\n",
    "import matplotlib.pyplot as plt\n",
    "import time\n",
    "\n",
    "# Initialize Ray\n",
    "ray.init(ignore_reinit_error=True)\n",
    "\n",
    "@ray.remote\n",
    "def monte_carlo_pi_sample(n_samples):\n",
    "    \"\"\"Estimate π using Monte Carlo method\"\"\"\n",
    "    import random\n",
    "    inside_circle = 0\n",
    "    for _ in range(n_samples):\n",
    "        x, y = random.random(), random.random()\n",
    "        if x*x + y*y <= 1:\n",
    "            inside_circle += 1\n",
    "    return inside_circle\n",
    "\n",
    "# Parallel computation settings\n",
    "total_samples = 1000000\n",
    "num_workers = 4\n",
    "samples_per_worker = total_samples // num_workers\n",
    "\n",
    "print(f\"Starting Monte Carlo π estimation...\")\n",
    "print(f\"Total samples: {total_samples}\")\n",
    "print(f\"Workers: {num_workers}\")\n",
    "print(f\"Samples per worker: {samples_per_worker}\")\n",
    "\n",
    "# Submit parallel tasks\n",
    "start_time = time.time()\n",
    "futures = [monte_carlo_pi_sample.remote(samples_per_worker) for _ in range(num_workers)]\n",
    "\n",
    "# Get results\n",
    "results = ray.get(futures)\n",
    "end_time = time.time()\n",
    "\n",
    "# Calculate π estimate\n",
    "total_inside = sum(results)\n",
    "pi_estimate = 4 * total_inside / total_samples\n",
    "error = abs(pi_estimate - np.pi)\n",
    "execution_time = end_time - start_time\n",
    "\n",
    "print(f\"\\nResults:\")\n",
    "print(f\"π estimate: {pi_estimate:.6f}\")\n",
    "print(f\"True π: {np.pi:.6f}\")\n",
    "print(f\"Error: {error:.6f}\")\n",
    "print(f\"Execution time: {execution_time:.3f} seconds\")\n",
    "\n",
    "# Visualize results\n",
    "plt.figure(figsize=(12, 5))\n",
    "\n",
    "# Worker results\n",
    "plt.subplot(1, 2, 1)\n",
    "plt.bar(range(num_workers), results, color='skyblue', alpha=0.7)\n",
    "plt.xlabel('Worker ID')\n",
    "plt.ylabel('Samples Inside Circle')\n",
    "plt.title('Samples Inside Circle per Worker')\n",
    "plt.grid(True, alpha=0.3)\n",
    "\n",
    "# Comparison with true π\n",
    "plt.subplot(1, 2, 2)\n",
    "values = [pi_estimate, np.pi]\n",
    "labels = ['Estimated π', 'True π']\n",
    "colors = ['orange', 'green']\n",
    "plt.bar(labels, values, color=colors, alpha=0.7)\n",
    "plt.ylabel('Value')\n",
    "plt.title('π Estimation Comparison')\n",
    "plt.ylim([3.0, 3.2])\n",
    "for i, v in enumerate(values):\n",
    "    plt.text(i, v + 0.01, f'{v:.4f}', ha='center', va='bottom')\n",
    "\n",
    "plt.tight_layout()\n",
    "plt.show()\n",
    "\n",
    "ray.shutdown()\n",
    "print(\"\\nRay shutdown completed.\")"
   ]
  },
  {
   "cell_type": "markdown",
   "id": "cell-10",
   "metadata": {},
   "source": [
    "### Matrix Operations"
   ]
  },
  {
   "cell_type": "code",
   "execution_count": null,
   "id": "cell-11",
   "metadata": {},
   "outputs": [],
   "source": [
    "%%ray_exec --name \"matrix_operations\" --timeout 90\n",
    "import ray\n",
    "import numpy as np\n",
    "import matplotlib.pyplot as plt\n",
    "import time\n",
    "\n",
    "# Initialize Ray\n",
    "ray.init(ignore_reinit_error=True)\n",
    "\n",
    "@ray.remote\n",
    "def matrix_multiply(A, B):\n",
    "    \"\"\"Parallel matrix multiplication\"\"\"\n",
    "    return np.dot(A, B)\n",
    "\n",
    "@ray.remote\n",
    "def matrix_eigenvals(matrix):\n",
    "    \"\"\"Compute eigenvalues of a matrix\"\"\"\n",
    "    return np.linalg.eigvals(matrix)\n",
    "\n",
    "# Create test matrices\n",
    "print(\"Creating test matrices...\")\n",
    "matrix_size = 300\n",
    "num_matrices = 6\n",
    "\n",
    "matrices_A = [np.random.rand(matrix_size, matrix_size) for _ in range(num_matrices)]\n",
    "matrices_B = [np.random.rand(matrix_size, matrix_size) for _ in range(num_matrices)]\n",
    "\n",
    "print(f\"Created {num_matrices} matrices of size {matrix_size}x{matrix_size}\")\n",
    "\n",
    "# Parallel matrix multiplication\n",
    "print(\"\\nPerforming parallel matrix multiplication...\")\n",
    "start_time = time.time()\n",
    "mult_futures = [matrix_multiply.remote(A, B) for A, B in zip(matrices_A, matrices_B)]\n",
    "mult_results = ray.get(mult_futures)\n",
    "mult_time = time.time() - start_time\n",
    "\n",
    "print(f\"Completed {len(mult_results)} matrix multiplications in {mult_time:.3f}s\")\n",
    "\n",
    "# Parallel eigenvalue computation\n",
    "print(\"\\nComputing eigenvalues...\")\n",
    "start_time = time.time()\n",
    "eigen_futures = [matrix_eigenvals.remote(result) for result in mult_results]\n",
    "eigenvals_results = ray.get(eigen_futures)\n",
    "eigen_time = time.time() - start_time\n",
    "\n",
    "print(f\"Computed eigenvalues for {len(eigenvals_results)} matrices in {eigen_time:.3f}s\")\n",
    "\n",
    "# Visualize eigenvalues\n",
    "plt.figure(figsize=(15, 10))\n",
    "\n",
    "for i, eigenvals in enumerate(eigenvals_results):\n",
    "    plt.subplot(2, 3, i+1)\n",
    "    \n",
    "    # Plot eigenvalues in complex plane\n",
    "    real_parts = np.real(eigenvals)\n",
    "    imag_parts = np.imag(eigenvals)\n",
    "    \n",
    "    plt.scatter(real_parts, imag_parts, alpha=0.6, s=10)\n",
    "    plt.xlabel('Real Part')\n",
    "    plt.ylabel('Imaginary Part')\n",
    "    plt.title(f'Eigenvalues Matrix {i+1}')\n",
    "    plt.grid(True, alpha=0.3)\n",
    "    \n",
    "    # Add unit circle for reference\n",
    "    theta = np.linspace(0, 2*np.pi, 100)\n",
    "    plt.plot(np.cos(theta), np.sin(theta), 'r--', alpha=0.5, linewidth=1)\n",
    "\n",
    "plt.tight_layout()\n",
    "plt.show()\n",
    "\n",
    "# Performance summary\n",
    "total_time = mult_time + eigen_time\n",
    "print(f\"\\nPerformance Summary:\")\n",
    "print(f\"Matrix multiplication time: {mult_time:.3f}s\")\n",
    "print(f\"Eigenvalue computation time: {eigen_time:.3f}s\")\n",
    "print(f\"Total computation time: {total_time:.3f}s\")\n",
    "print(f\"Average time per matrix: {total_time/num_matrices:.3f}s\")\n",
    "\n",
    "ray.shutdown()\n",
    "print(\"\\nRay shutdown completed.\")"
   ]
  },
  {
   "cell_type": "markdown",
   "id": "cell-12",
   "metadata": {},
   "source": [
    "## 4. Async Execution Example"
   ]
  },
  {
   "cell_type": "code",
   "execution_count": null,
   "id": "cell-13",
   "metadata": {},
   "outputs": [],
   "source": [
    "# Submit a job asynchronously\n",
    "job_id = \"async_example\"\n",
    "\n",
    "print(f\"Submitting async job: {job_id}\")\n",
    "print(\"You can continue working while the job runs...\")\n",
    "\n",
    "# Note: This would work with the actual magic command:\n",
    "# %%ray_exec --async --name \"async_computation\"\n",
    "# # Your long-running code here\n",
    "\n",
    "print(\"Job submitted! Use %ray_result <job_id> to check results.\")"
   ]
  },
  {
   "cell_type": "code",
   "execution_count": null,
   "id": "cell-14",
   "metadata": {},
   "outputs": [],
   "source": [
    "# Check job result (example - replace with actual job ID)\n",
    "# %ray_result <your_job_id_here>\n",
    "\n",
    "print(\"Replace <your_job_id_here> with the actual job ID from async execution\")"
   ]
  },
  {
   "cell_type": "markdown",
   "id": "cell-15",
   "metadata": {},
   "source": [
    "## Summary\n",
    "\n",
    "This notebook demonstrated the Ray magic commands:\n",
    "\n",
    "1. **Loading magic commands** with `load_ray_magic()`\n",
    "2. **Checking cluster status** with `%ray_status`\n",
    "3. **Listing jobs** with `%ray_jobs`\n",
    "4. **Executing distributed code** with `%%ray_exec`\n",
    "5. **Getting job results** with `%ray_result`\n",
    "\n",
    "### Key Features:\n",
    "- **Seamless integration** with Jupyter notebooks\n",
    "- **Automatic output capture** including plots and print statements\n",
    "- **Synchronous and asynchronous** execution modes\n",
    "- **Built-in timeout handling**\n",
    "- **Ray cluster management** integration\n",
    "\n",
    "### Use Cases:\n",
    "- **Large-scale data processing**\n",
    "- **Machine learning training**\n",
    "- **Scientific simulations**\n",
    "- **Parallel algorithm development**\n",
    "- **Performance benchmarking**"
   ]
  }
 ],
 "metadata": {
  "kernelspec": {
   "display_name": "Python 3 (ipykernel)",
   "language": "python",
   "name": "python3"
  },
  "language_info": {
   "codemirror_mode": {
    "name": "ipython",
    "version": 3
   },
   "file_extension": ".py",
   "mimetype": "text/x-python",
   "name": "python",
   "nbconvert_exporter": "python",
   "pygments_lexer": "ipython3",
   "version": "3.11.6"
  }
 },
 "nbformat": 4,
 "nbformat_minor": 5
}