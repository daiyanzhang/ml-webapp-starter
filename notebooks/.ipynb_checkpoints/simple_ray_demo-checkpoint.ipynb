{
 "cells": [
  {
   "cell_type": "markdown",
   "id": "cell-0",
   "metadata": {},
   "source": [
    "# Simple Ray Computing Demo\n",
    "\n",
    "This notebook shows the simplest way to run distributed computing on Ray clusters.\n",
    "\n",
    "## Quick Start:\n",
    "1. Load magic commands\n",
    "2. Use `%%ray_exec` to run code on Ray cluster\n",
    "3. View results automatically"
   ]
  },
  {
   "cell_type": "code",
   "execution_count": 16,
   "id": "cell-1",
   "metadata": {},
   "outputs": [
    {
     "name": "stdout",
     "output_type": "stream",
     "text": [
      "✅ Direct Ray magic commands loaded!\n",
      "🔗 Connecting directly to Ray cluster (no backend API needed)\n",
      "\n",
      "Available commands:\n",
      "  %ray_status           - Check Ray cluster status\n",
      "  %ray_jobs             - List Ray jobs\n",
      "  %%ray_exec [options]  - Execute cell on Ray cluster\n",
      "  %ray_result <job_id>  - Get Ray job result\n",
      "\n",
      "💡 Options for %%ray_exec:\n",
      "  --name <name>    : Job name\n",
      "  --timeout <sec>  : Timeout in seconds\n",
      "  --async          : Run asynchronously\n",
      "\n",
      "🔧 Features:\n",
      "  • Auto-install requirements.txt from notebooks/\n",
      "  • Direct Ray cluster connection\n",
      "  • Full output capture including plots\n"
     ]
    }
   ],
   "source": [
    "# Load Direct Ray magic commands (no backend API needed!)\n",
    "from utils.direct_ray_magic import load_direct_ray_magic\n",
    "load_direct_ray_magic()"
   ]
  },
  {
   "cell_type": "markdown",
   "id": "cell-2",
   "metadata": {},
   "source": [
    "## Example 1: Simple Calculation"
   ]
  },
  {
   "cell_type": "code",
   "execution_count": 18,
   "id": "cell-3",
   "metadata": {},
   "outputs": [
    {
     "name": "stderr",
     "output_type": "stream",
     "text": [
      "2025-09-12 02:06:25,045\tINFO dashboard_sdk.py:338 -- Uploading package gcs://_ray_pkg_ea05bf57c025866f.zip.\n",
      "2025-09-12 02:06:25,047\tINFO packaging.py:530 -- Creating a file package for local directory './'.\n"
     ]
    },
    {
     "name": "stdout",
     "output_type": "stream",
     "text": [
      "🚀 Submitting job 'hello_ray' to Ray cluster...\n",
      "📍 Working dir: ./notebooks (auto-install requirements.txt)\n",
      "✅ Job submitted! Job ID: hello_ray\n",
      "⏳ Waiting for execution...\n",
      "......\n",
      "✅ Execution completed successfully!\n",
      "\n",
      "📄 Output:\n",
      "--------------------------------------------------\n",
      "2025-09-11 19:06:34,814 - INFO - === Ray Job Monitor Started ===\n",
      "2025-09-11 19:06:34,816 - INFO - Job ID: 01000000\n",
      "2025-09-11 19:06:34,816 - INFO - Submission ID: unknown\n",
      "2025-09-11 19:06:34,816 - INFO - Worker Queue: unknown\n",
      "2025-09-11 19:06:34,816 - INFO - Worker Type: unknown\n",
      "2025-09-11 19:06:34,816 - INFO - Hostname: a8642a7d9ec4\n",
      "2025-09-11 19:06:34,816 - INFO - Function: main\n",
      "2025-09-11 19:06:34,817 - INFO - Arguments: args=0, kwargs=[]\n",
      "2025-09-11 19:06:34,920 - INFO - Status updated successfully: running\n",
      "2025-09-11 19:06:34,920 - INFO - [CELL-EXECUTOR] Starting cell execution for: hello_ray\n",
      "2025-09-11 19:06:34,921 - INFO - [CELL-EXECUTOR] Code preview: # This code runs on Ray cluster\n",
      "import numpy as np\n",
      "\n",
      "# Simple calculation\n",
      "numbers = [1, 2, 3, 4, 5]\n",
      "r...\n",
      "2025-09-11 19:06:34,921 - INFO - [CELL-EXECUTOR] Setting up execution environment...\n",
      "2025-09-11 19:06:34,922 - INFO - [CELL-EXECUTOR] Executing cell code...\n",
      "2025-09-11 19:06:34,924 - INFO - [CELL-EXECUTOR] Execution completed. Output length: 71, Images: 0\n",
      "2025-09-11 19:06:34,924 - INFO - [CELL-EXECUTOR] Cell execution result: success\n",
      "\n",
      "=== USER OUTPUT ===\n",
      "Numbers: [1, 2, 3, 4, 5]\n",
      "Sum of squares: 55\n",
      "🚀 Computed on Ray cluster!\n",
      "\n",
      "=== END OUTPUT ===\n",
      "2025-09-11 19:06:36,041 - INFO - Status updated successfully: completed\n",
      "2025-09-11 19:06:36,042 - INFO - === Ray Job Monitor Completed ===\n",
      "2025-09-11 19:06:36,042 - INFO - Job 01000000 completed successfully in 1.21 seconds\n",
      "2025-09-11 19:06:36,043 - INFO - [CELL-EXECUTOR] Ray cell execution completed with status: success\n",
      "\n",
      "--------------------------------------------------\n"
     ]
    },
    {
     "data": {
      "text/plain": [
       "{'job_id': 'hello_ray',\n",
       " 'status': 'succeeded',\n",
       " 'start_time': 1757642785098,\n",
       " 'end_time': 1757642796370,\n",
       " 'metadata': {'notebook_path': 'hello_ray',\n",
       "  'code_preview': '# This code runs on Ray cluster\\nimport numpy as np\\n\\n# Simple calculation\\nnumbers = [1, 2, 3, 4, 5]\\nr'},\n",
       " 'logs': '2025-09-11 19:06:34,814 - INFO - === Ray Job Monitor Started ===\\n2025-09-11 19:06:34,816 - INFO - Job ID: 01000000\\n2025-09-11 19:06:34,816 - INFO - Submission ID: unknown\\n2025-09-11 19:06:34,816 - INFO - Worker Queue: unknown\\n2025-09-11 19:06:34,816 - INFO - Worker Type: unknown\\n2025-09-11 19:06:34,816 - INFO - Hostname: a8642a7d9ec4\\n2025-09-11 19:06:34,816 - INFO - Function: main\\n2025-09-11 19:06:34,817 - INFO - Arguments: args=0, kwargs=[]\\n2025-09-11 19:06:34,920 - INFO - Status updated successfully: running\\n2025-09-11 19:06:34,920 - INFO - [CELL-EXECUTOR] Starting cell execution for: hello_ray\\n2025-09-11 19:06:34,921 - INFO - [CELL-EXECUTOR] Code preview: # This code runs on Ray cluster\\nimport numpy as np\\n\\n# Simple calculation\\nnumbers = [1, 2, 3, 4, 5]\\nr...\\n2025-09-11 19:06:34,921 - INFO - [CELL-EXECUTOR] Setting up execution environment...\\n2025-09-11 19:06:34,922 - INFO - [CELL-EXECUTOR] Executing cell code...\\n2025-09-11 19:06:34,924 - INFO - [CELL-EXECUTOR] Execution completed. Output length: 71, Images: 0\\n2025-09-11 19:06:34,924 - INFO - [CELL-EXECUTOR] Cell execution result: success\\n\\n=== USER OUTPUT ===\\nNumbers: [1, 2, 3, 4, 5]\\nSum of squares: 55\\n🚀 Computed on Ray cluster!\\n\\n=== END OUTPUT ===\\n2025-09-11 19:06:36,041 - INFO - Status updated successfully: completed\\n2025-09-11 19:06:36,042 - INFO - === Ray Job Monitor Completed ===\\n2025-09-11 19:06:36,042 - INFO - Job 01000000 completed successfully in 1.21 seconds\\n2025-09-11 19:06:36,043 - INFO - [CELL-EXECUTOR] Ray cell execution completed with status: success\\n'}"
      ]
     },
     "execution_count": 18,
     "metadata": {},
     "output_type": "execute_result"
    }
   ],
   "source": [
    "%%ray_exec --name hello_ray\n",
    "# This code runs on Ray cluster\n",
    "import numpy as np\n",
    "\n",
    "# Simple calculation\n",
    "numbers = [1, 2, 3, 4, 5]\n",
    "result = sum(x**2 for x in numbers)\n",
    "\n",
    "print(f\"Numbers: {numbers}\")\n",
    "print(f\"Sum of squares: {result}\")\n",
    "print(\"🚀 Computed on Ray cluster!\")"
   ]
  },
  {
   "cell_type": "markdown",
   "id": "cell-4",
   "metadata": {},
   "source": [
    "## Example 2: Parallel Computing"
   ]
  },
  {
   "cell_type": "code",
   "execution_count": null,
   "id": "cell-5",
   "metadata": {},
   "outputs": [],
   "source": [
    "%%ray_exec --name parallel_task\n",
    "import ray\n",
    "import time\n",
    "\n",
    "# Initialize Ray\n",
    "ray.init(ignore_reinit_error=True)\n",
    "\n",
    "@ray.remote\n",
    "def compute_square(x):\n",
    "    time.sleep(0.1)  # Simulate work\n",
    "    return x * x\n",
    "\n",
    "# Parallel computation\n",
    "numbers = [1, 2, 3, 4, 5, 6, 7, 8]\n",
    "futures = [compute_square.remote(x) for x in numbers]\n",
    "results = ray.get(futures)\n",
    "\n",
    "print(f\"Input: {numbers}\")\n",
    "print(f\"Squares: {results}\")\n",
    "print(f\"✨ Computed {len(numbers)} squares in parallel!\")\n",
    "\n",
    "ray.shutdown()"
   ]
  },
  {
   "cell_type": "markdown",
   "id": "cell-6",
   "metadata": {},
   "source": [
    "## Example 3: Data Processing"
   ]
  },
  {
   "cell_type": "code",
   "execution_count": null,
   "id": "cell-7",
   "metadata": {},
   "outputs": [],
   "source": [
    "%%ray_exec --name data_processing\n",
    "import pandas as pd\n",
    "import numpy as np\n",
    "\n",
    "# Create sample data\n",
    "data = pd.DataFrame({\n",
    "    'name': ['Alice', 'Bob', 'Charlie', 'David', 'Eve'],\n",
    "    'score': [85, 92, 78, 88, 95],\n",
    "    'age': [25, 30, 35, 28, 32]\n",
    "})\n",
    "\n",
    "# Process data\n",
    "print(\"📊 Sample Data:\")\n",
    "print(data)\n",
    "print(f\"\\n📈 Statistics:\")\n",
    "print(f\"Average score: {data['score'].mean():.1f}\")\n",
    "print(f\"Average age: {data['age'].mean():.1f}\")\n",
    "print(f\"Top performer: {data.loc[data['score'].idxmax(), 'name']}\")"
   ]
  },
  {
   "cell_type": "markdown",
   "id": "cell-8",
   "metadata": {},
   "source": [
    "## Check Ray Cluster Status"
   ]
  },
  {
   "cell_type": "code",
   "execution_count": null,
   "id": "cell-9",
   "metadata": {},
   "outputs": [],
   "source": [
    "# Check Ray cluster\n",
    "%ray_status"
   ]
  },
  {
   "cell_type": "markdown",
   "id": "cell-10",
   "metadata": {},
   "source": [
    "## List Ray Jobs"
   ]
  },
  {
   "cell_type": "code",
   "execution_count": null,
   "id": "cell-11",
   "metadata": {},
   "outputs": [],
   "source": [
    "# List all Ray jobs\n",
    "%ray_jobs"
   ]
  },
  {
   "cell_type": "markdown",
   "id": "cell-12",
   "metadata": {},
   "source": [
    "---\n",
    "\n",
    "## 🎯 That's it!\n",
    "\n",
    "### Key Points:\n",
    "- **`%%ray_exec`** runs your code on Ray cluster\n",
    "- **Automatic output capture** shows results in notebook\n",
    "- **Distributed computing** scales to large datasets\n",
    "- **Simple syntax** - just add `%%ray_exec` to any cell!\n",
    "\n",
    "### Next Steps:\n",
    "- Try your own calculations with `%%ray_exec`\n",
    "- Scale up to larger datasets\n",
    "- Use multiple Ray workers for parallel processing"
   ]
  }
 ],
 "metadata": {
  "kernelspec": {
   "display_name": "Python 3 (ipykernel)",
   "language": "python",
   "name": "python3"
  },
  "language_info": {
   "codemirror_mode": {
    "name": "ipython",
    "version": 3
   },
   "file_extension": ".py",
   "mimetype": "text/x-python",
   "name": "python",
   "nbconvert_exporter": "python",
   "pygments_lexer": "ipython3",
   "version": "3.11.6"
  }
 },
 "nbformat": 4,
 "nbformat_minor": 5
}
