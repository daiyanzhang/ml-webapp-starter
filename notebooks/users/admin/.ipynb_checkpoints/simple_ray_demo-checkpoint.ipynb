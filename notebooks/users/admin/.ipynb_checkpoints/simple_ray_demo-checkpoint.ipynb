{
 "cells": [
  {
   "cell_type": "markdown",
   "id": "cell-0",
   "metadata": {},
   "source": [
    "# Simple Ray Computing Demo\n",
    "\n",
    "This notebook shows the simplest way to run distributed computing on Ray clusters.\n",
    "\n",
    "## Quick Start:\n",
    "1. Load magic commands\n",
    "2. Use `%%ray_exec` to run code on Ray cluster\n",
    "3. View results automatically"
   ]
  },
  {
   "cell_type": "code",
   "execution_count": null,
   "id": "cell-1",
   "metadata": {},
   "outputs": [
    {
     "name": "stdout",
     "output_type": "stream",
     "text": [
      "Requirement already satisfied: numpy>=1.21.0 in /opt/conda/lib/python3.11/site-packages (from -r requirements.txt (line 2)) (2.3.3)\n",
      "Requirement already satisfied: pandas>=1.3.0 in /opt/conda/lib/python3.11/site-packages (from -r requirements.txt (line 3)) (2.3.2)\n",
      "Collecting matplotlib>=3.5.0 (from -r requirements.txt (line 4))\n",
      "  Downloading matplotlib-3.10.6-cp311-cp311-manylinux_2_27_aarch64.manylinux_2_28_aarch64.whl.metadata (11 kB)\n",
      "Requirement already satisfied: python-dateutil>=2.8.2 in /opt/conda/lib/python3.11/site-packages (from pandas>=1.3.0->-r requirements.txt (line 3)) (2.8.2)\n",
      "Requirement already satisfied: pytz>=2020.1 in /opt/conda/lib/python3.11/site-packages (from pandas>=1.3.0->-r requirements.txt (line 3)) (2023.3.post1)\n",
      "Requirement already satisfied: tzdata>=2022.7 in /opt/conda/lib/python3.11/site-packages (from pandas>=1.3.0->-r requirements.txt (line 3)) (2025.2)\n",
      "Collecting contourpy>=1.0.1 (from matplotlib>=3.5.0->-r requirements.txt (line 4))\n",
      "  Downloading contourpy-1.3.3-cp311-cp311-manylinux_2_26_aarch64.manylinux_2_28_aarch64.whl.metadata (5.5 kB)\n",
      "Collecting cycler>=0.10 (from matplotlib>=3.5.0->-r requirements.txt (line 4))\n",
      "  Downloading cycler-0.12.1-py3-none-any.whl.metadata (3.8 kB)\n",
      "Collecting fonttools>=4.22.0 (from matplotlib>=3.5.0->-r requirements.txt (line 4))\n",
      "  Downloading fonttools-4.59.2-cp311-cp311-manylinux2014_aarch64.manylinux_2_17_aarch64.manylinux_2_28_aarch64.whl.metadata (109 kB)\n",
      "\u001b[2K     \u001b[90m━━━━━━━━━━━━━━━━━━━━━━━━━━━━━━━━━━━━━━━\u001b[0m \u001b[32m109.7/109.7 kB\u001b[0m \u001b[31m3.4 MB/s\u001b[0m eta \u001b[36m0:00:00\u001b[0m\n",
      "\u001b[?25hCollecting kiwisolver>=1.3.1 (from matplotlib>=3.5.0->-r requirements.txt (line 4))\n",
      "  Downloading kiwisolver-1.4.9-cp311-cp311-manylinux_2_24_aarch64.manylinux_2_28_aarch64.whl.metadata (6.3 kB)\n",
      "Requirement already satisfied: packaging>=20.0 in /opt/conda/lib/python3.11/site-packages (from matplotlib>=3.5.0->-r requirements.txt (line 4)) (23.2)\n",
      "Collecting pillow>=8 (from matplotlib>=3.5.0->-r requirements.txt (line 4))\n",
      "  Downloading pillow-11.3.0-cp311-cp311-manylinux_2_27_aarch64.manylinux_2_28_aarch64.whl.metadata (9.0 kB)\n",
      "Collecting pyparsing>=2.3.1 (from matplotlib>=3.5.0->-r requirements.txt (line 4))\n",
      "  Downloading pyparsing-3.2.4-py3-none-any.whl.metadata (5.0 kB)\n",
      "Requirement already satisfied: six>=1.5 in /opt/conda/lib/python3.11/site-packages (from python-dateutil>=2.8.2->pandas>=1.3.0->-r requirements.txt (line 3)) (1.16.0)\n",
      "Downloading matplotlib-3.10.6-cp311-cp311-manylinux_2_27_aarch64.manylinux_2_28_aarch64.whl (9.5 MB)\n",
      "\u001b[2K   \u001b[90m━━━━━━━━━━━━━━━━━━━━━━━━━━━━━━━━━━━━━━━━\u001b[0m \u001b[32m9.5/9.5 MB\u001b[0m \u001b[31m11.7 MB/s\u001b[0m eta \u001b[36m0:00:00\u001b[0m00:01\u001b[0m00:01\u001b[0m\n",
      "\u001b[?25hDownloading contourpy-1.3.3-cp311-cp311-manylinux_2_26_aarch64.manylinux_2_28_aarch64.whl (329 kB)\n",
      "\u001b[2K   \u001b[90m━━━━━━━━━━━━━━━━━━━━━━━━━━━━━━━━━━━━━━━━\u001b[0m \u001b[32m329.2/329.2 kB\u001b[0m \u001b[31m15.7 MB/s\u001b[0m eta \u001b[36m0:00:00\u001b[0m\n",
      "\u001b[?25hDownloading cycler-0.12.1-py3-none-any.whl (8.3 kB)\n",
      "Downloading fonttools-4.59.2-cp311-cp311-manylinux2014_aarch64.manylinux_2_17_aarch64.manylinux_2_28_aarch64.whl (5.0 MB)\n",
      "\u001b[2K   \u001b[90m━━━━━━━━━━━━━━━━━━━━━━━━━━━━━━━━━━━━━━━━\u001b[0m \u001b[32m5.0/5.0 MB\u001b[0m \u001b[31m12.3 MB/s\u001b[0m eta \u001b[36m0:00:00\u001b[0ma \u001b[36m0:00:01\u001b[0m\n",
      "\u001b[?25hDownloading kiwisolver-1.4.9-cp311-cp311-manylinux_2_24_aarch64.manylinux_2_28_aarch64.whl (1.2 MB)\n",
      "\u001b[2K   \u001b[90m━━━━━━━━━━━━━━━━━━━━━━━━━━━━━━━━━━━━━━━━\u001b[0m \u001b[32m1.2/1.2 MB\u001b[0m \u001b[31m13.7 MB/s\u001b[0m eta \u001b[36m0:00:00\u001b[0ma \u001b[36m0:00:01\u001b[0m\n",
      "\u001b[?25hDownloading pillow-11.3.0-cp311-cp311-manylinux_2_27_aarch64.manylinux_2_28_aarch64.whl (6.0 MB)\n",
      "\u001b[2K   \u001b[90m━━━━━━━━━━━━━━━━━━━━━━━━━━━━━━━━━━━━━━━━\u001b[0m \u001b[32m6.0/6.0 MB\u001b[0m \u001b[31m11.1 MB/s\u001b[0m eta \u001b[36m0:00:00\u001b[0m00:01\u001b[0m0:01\u001b[0mm\n",
      "\u001b[?25hDownloading pyparsing-3.2.4-py3-none-any.whl (113 kB)\n",
      "\u001b[2K   \u001b[90m━━━━━━━━━━━━━━━━━━━━━━━━━━━━━━━━━━━━━━━━\u001b[0m \u001b[32m113.9/113.9 kB\u001b[0m \u001b[31m7.5 MB/s\u001b[0m eta \u001b[36m0:00:00\u001b[0m\n",
      "\u001b[?25hInstalling collected packages: pyparsing, pillow, kiwisolver, fonttools, cycler, contourpy, matplotlib\n",
      "Successfully installed contourpy-1.3.3 cycler-0.12.1 fonttools-4.59.2 kiwisolver-1.4.9 matplotlib-3.10.6 pillow-11.3.0 pyparsing-3.2.4\n",
      "✅ Direct Ray magic commands loaded!\n",
      "🔗 Connecting directly to Ray cluster (no backend API needed)\n",
      "\n",
      "Available commands:\n",
      "  %ray_status           - Check Ray cluster status\n",
      "  %ray_jobs             - List Ray jobs\n",
      "  %%ray_exec [options]  - Execute cell on Ray cluster\n",
      "  %ray_result <job_id>  - Get Ray job result\n",
      "\n",
      "💡 Options for %%ray_exec:\n",
      "  --name <name>    : Job name\n",
      "  --timeout <sec>  : Timeout in seconds\n",
      "  --async          : Run asynchronously\n",
      "\n",
      "🔧 Features:\n",
      "  • Auto-install requirements.txt from notebooks/\n",
      "  • Direct Ray cluster connection\n",
      "  • Full output capture including plots\n"
     ]
    }
   ],
   "source": [
    "!pip install -r requirements.txt\n",
    "\n",
    "# Load Direct Ray magic commands (no backend API needed!)\n",
    "from sdk.notebook.direct_ray_magic import load_direct_ray_magic\n",
    "load_direct_ray_magic()"
   ]
  },
  {
   "cell_type": "markdown",
   "id": "cell-2",
   "metadata": {},
   "source": [
    "## Example 1: Simple Calculation"
   ]
  },
  {
   "cell_type": "code",
   "execution_count": 2,
   "id": "cell-3",
   "metadata": {},
   "outputs": [
    {
     "name": "stderr",
     "output_type": "stream",
     "text": [
      "2025-09-16 06:37:53,700\tINFO dashboard_sdk.py:338 -- Uploading package gcs://_ray_pkg_f5860f2b0c4912e6.zip.\n",
      "2025-09-16 06:37:53,702\tINFO packaging.py:530 -- Creating a file package for local directory './'.\n"
     ]
    },
    {
     "name": "stdout",
     "output_type": "stream",
     "text": [
      "🚀 Submitting job 'hello_ray_1758004673' to Ray cluster...\n",
      "📍 Working dir: ./notebooks (auto-install requirements.txt)\n",
      "✅ Job submitted! Job ID: hello_ray_1758004673\n",
      "⏳ Waiting for execution...\n",
      "............................\n",
      "✅ Execution completed successfully!\n",
      "\n",
      "🎯 Your Code Output:\n",
      "----------------------------------------\n",
      "Numbers: [1, 2, 3, 4, 5]\n",
      "Sum of squares: 55\n",
      "🚀 Computed on Ray cluster!\n",
      "\n",
      "----------------------------------------\n",
      "\n",
      "💡 Code executed: # This code runs on Ray cluster\n",
      "import numpy as np\n",
      "\n",
      "# Simple calculation\n",
      "numbers = [1, 2, 3, 4, 5]\n",
      "r\n"
     ]
    },
    {
     "data": {
      "text/plain": [
       "{'job_id': 'hello_ray_1758004673',\n",
       " 'status': 'succeeded',\n",
       " 'start_time': 1758004673912,\n",
       " 'end_time': 1758004731842,\n",
       " 'metadata': {'notebook_path': 'hello_ray_1758004673',\n",
       "  'code_preview': '# This code runs on Ray cluster\\nimport numpy as np\\n\\n# Simple calculation\\nnumbers = [1, 2, 3, 4, 5]\\nr'},\n",
       " 'logs': '2025-09-15 23:38:35,800 - INFO - === Ray Job Monitor Started ===\\n2025-09-15 23:38:35,802 - INFO - Job ID: 01000000\\n2025-09-15 23:38:35,802 - INFO - Submission ID: unknown\\n2025-09-15 23:38:35,802 - INFO - Worker Queue: unknown\\n2025-09-15 23:38:35,803 - INFO - Worker Type: unknown\\n2025-09-15 23:38:35,803 - INFO - Hostname: e049d2d28cd9\\n2025-09-15 23:38:35,803 - INFO - Function: main\\n2025-09-15 23:38:35,803 - INFO - Arguments: args=0, kwargs=[]\\n2025-09-15 23:38:35,951 - INFO - Status updated successfully: running\\n2025-09-15 23:38:35,952 - INFO - [CELL-EXECUTOR] Starting cell execution for: hello_ray_1758004673\\n2025-09-15 23:38:35,952 - INFO - [CELL-EXECUTOR] Code preview: # This code runs on Ray cluster\\nimport numpy as np\\n\\n# Simple calculation\\nnumbers = [1, 2, 3, 4, 5]\\nr...\\n2025-09-15 23:38:35,953 - INFO - [CELL-EXECUTOR] Setting up execution environment...\\n2025-09-15 23:38:35,955 - INFO - [CELL-EXECUTOR] Executing cell code...\\n2025-09-15 23:38:35,961 - INFO - [CELL-EXECUTOR] Execution completed. Output length: 71, Images: 0\\n2025-09-15 23:38:35,962 - INFO - [CELL-EXECUTOR] Cell execution result: success\\n\\n=== USER OUTPUT ===\\nNumbers: [1, 2, 3, 4, 5]\\nSum of squares: 55\\n🚀 Computed on Ray cluster!\\n\\n=== END OUTPUT ===\\n2025-09-15 23:38:51,100 - INFO - Status updated successfully: completed\\n2025-09-15 23:38:51,103 - INFO - === Ray Job Monitor Completed ===\\n2025-09-15 23:38:51,105 - INFO - Job 01000000 completed successfully in 15.20 seconds\\n2025-09-15 23:38:51,106 - INFO - [CELL-EXECUTOR] Ray cell execution completed with status: success\\n'}"
      ]
     },
     "execution_count": 2,
     "metadata": {},
     "output_type": "execute_result"
    }
   ],
   "source": [
    "%%ray_exec --name hello_ray\n",
    "# This code runs on Ray cluster\n",
    "import numpy as np\n",
    "\n",
    "# Simple calculation\n",
    "numbers = [1, 2, 3, 4, 5]\n",
    "result = sum(x**2 for x in numbers)\n",
    "\n",
    "print(f\"Numbers: {numbers}\")\n",
    "print(f\"Sum of squares: {result}\")\n",
    "print(\"🚀 Computed on Ray cluster!\")"
   ]
  },
  {
   "cell_type": "markdown",
   "id": "cell-4",
   "metadata": {},
   "source": [
    "## Example 2: Parallel Computing"
   ]
  },
  {
   "cell_type": "code",
   "execution_count": 9,
   "id": "cell-5",
   "metadata": {},
   "outputs": [
    {
     "name": "stdout",
     "output_type": "stream",
     "text": [
      "🚀 Submitting job 'parallel_task_1757643153' to Ray cluster...\n",
      "📍 Working dir: ./notebooks (auto-install requirements.txt)\n"
     ]
    },
    {
     "name": "stderr",
     "output_type": "stream",
     "text": [
      "2025-09-12 02:12:34,357\tINFO dashboard_sdk.py:385 -- Package gcs://_ray_pkg_ff296a0b88f65625.zip already exists, skipping upload.\n"
     ]
    },
    {
     "name": "stdout",
     "output_type": "stream",
     "text": [
      "✅ Job submitted! Job ID: parallel_task_1757643153\n",
      "⏳ Waiting for execution...\n",
      "........................\n",
      "✅ Execution completed successfully!\n",
      "\n",
      "🎯 Your Code Output:\n",
      "----------------------------------------\n",
      "Input: [1, 2, 3, 4, 5, 6, 7, 8]\n",
      "Squares: [1, 4, 9, 16, 25, 36, 49, 64]\n",
      "✨ Computed 8 squares in parallel!\n",
      "\n",
      "----------------------------------------\n",
      "\n",
      "💡 Code executed: import ray\n",
      "import time\n",
      "\n",
      "# Initialize Ray\n",
      "ray.init(ignore_reinit_error=True)\n",
      "\n",
      "@ray.remote\n",
      "def compute\n"
     ]
    },
    {
     "data": {
      "text/plain": [
       "{'job_id': 'parallel_task_1757643153',\n",
       " 'status': 'succeeded',\n",
       " 'start_time': 1757643155352,\n",
       " 'end_time': 1757643208874,\n",
       " 'metadata': {'notebook_path': 'parallel_task_1757643153',\n",
       "  'code_preview': 'import ray\\nimport time\\n\\n# Initialize Ray\\nray.init(ignore_reinit_error=True)\\n\\n@ray.remote\\ndef compute'},\n",
       " 'logs': '2025-09-11 19:12:35,570\\tINFO job_manager.py:530 -- Runtime env is setting up.\\n2025-09-11 19:13:05,339 - INFO - === Ray Job Monitor Started ===\\n2025-09-11 19:13:05,341 - INFO - Job ID: 03000000\\n2025-09-11 19:13:05,341 - INFO - Submission ID: unknown\\n2025-09-11 19:13:05,342 - INFO - Worker Queue: unknown\\n2025-09-11 19:13:05,342 - INFO - Worker Type: unknown\\n2025-09-11 19:13:05,342 - INFO - Hostname: a8642a7d9ec4\\n2025-09-11 19:13:05,342 - INFO - Function: main\\n2025-09-11 19:13:05,342 - INFO - Arguments: args=0, kwargs=[]\\n2025-09-11 19:13:05,399 - INFO - Status updated successfully: running\\n2025-09-11 19:13:05,400 - INFO - [CELL-EXECUTOR] Starting cell execution for: parallel_task_1757643153\\n2025-09-11 19:13:05,400 - INFO - [CELL-EXECUTOR] Code preview: import ray\\nimport time\\n\\n# Initialize Ray\\nray.init(ignore_reinit_error=True)\\n\\n@ray.remote\\ndef compute...\\n2025-09-11 19:13:05,400 - INFO - [CELL-EXECUTOR] Setting up execution environment...\\n2025-09-11 19:13:05,401 - INFO - [CELL-EXECUTOR] Initializing Ray for distributed computing...\\n2025-09-11 19:13:06,548\\tINFO worker.py:1445 -- Using address 172.18.0.3:6379 set in the environment variable RAY_ADDRESS\\n2025-09-11 19:13:06,550\\tINFO worker.py:1585 -- Connecting to existing Ray cluster at address: 172.18.0.3:6379...\\n2025-09-11 19:13:06,722\\tINFO worker.py:1761 -- Connected to Ray cluster. View the dashboard at \\x1b[1m\\x1b[32m172.18.0.3:8265 \\x1b[39m\\x1b[22m\\n2025-09-11 19:13:06,988 - INFO - [CELL-EXECUTOR] Connected to Ray cluster\\n2025-09-11 19:13:07,001 - INFO - [CELL-EXECUTOR] Executing cell code...\\n2025-09-11 19:13:07,007\\tINFO worker.py:1445 -- Using address 172.18.0.3:6379 set in the environment variable RAY_ADDRESS\\n2025-09-11 19:13:07,008\\tINFO worker.py:1585 -- Connecting to existing Ray cluster at address: 172.18.0.3:6379...\\n2025-09-11 19:13:07,009\\tINFO worker.py:1603 -- Calling ray.init() again after it has already been called.\\n2025-09-11 19:13:28,155 - INFO - [CELL-EXECUTOR] Execution completed. Output length: 105, Images: 0\\n2025-09-11 19:13:28,158 - INFO - [CELL-EXECUTOR] Cell execution result: success\\n\\n=== USER OUTPUT ===\\nInput: [1, 2, 3, 4, 5, 6, 7, 8]\\nSquares: [1, 4, 9, 16, 25, 36, 49, 64]\\n✨ Computed 8 squares in parallel!\\n\\n=== END OUTPUT ===\\n2025-09-11 19:13:28,277 - INFO - Status updated successfully: completed\\n2025-09-11 19:13:28,281 - INFO - === Ray Job Monitor Completed ===\\n2025-09-11 19:13:28,283 - INFO - Job 03000000 completed successfully in 22.82 seconds\\n2025-09-11 19:13:28,284 - INFO - [CELL-EXECUTOR] Ray cell execution completed with status: success\\n'}"
      ]
     },
     "execution_count": 9,
     "metadata": {},
     "output_type": "execute_result"
    }
   ],
   "source": [
    "%%ray_exec --name parallel_task\n",
    "import ray\n",
    "import time\n",
    "\n",
    "# Initialize Ray\n",
    "ray.init(ignore_reinit_error=True)\n",
    "\n",
    "@ray.remote\n",
    "def compute_square(x):\n",
    "    time.sleep(0.1)  # Simulate work\n",
    "    return x * x\n",
    "\n",
    "# Parallel computation\n",
    "numbers = [1, 2, 3, 4, 5, 6, 7, 8]\n",
    "futures = [compute_square.remote(x) for x in numbers]\n",
    "results = ray.get(futures)\n",
    "\n",
    "print(f\"Input: {numbers}\")\n",
    "print(f\"Squares: {results}\")\n",
    "print(f\"✨ Computed {len(numbers)} squares in parallel!\")\n",
    "\n",
    "ray.shutdown()"
   ]
  },
  {
   "cell_type": "markdown",
   "id": "cell-6",
   "metadata": {},
   "source": [
    "## Example 3: Data Processing"
   ]
  },
  {
   "cell_type": "code",
   "execution_count": 6,
   "id": "cell-7",
   "metadata": {},
   "outputs": [
    {
     "name": "stderr",
     "output_type": "stream",
     "text": [
      "2025-09-12 02:10:15,545\tINFO dashboard_sdk.py:385 -- Package gcs://_ray_pkg_185f0ed85a4a082b.zip already exists, skipping upload.\n"
     ]
    },
    {
     "name": "stdout",
     "output_type": "stream",
     "text": [
      "🚀 Submitting job 'data_processing_1757643015' to Ray cluster...\n",
      "📍 Working dir: ./notebooks (auto-install requirements.txt)\n",
      "✅ Job submitted! Job ID: data_processing_1757643015\n",
      "⏳ Waiting for execution...\n",
      "........\n",
      "✅ Execution completed successfully!\n",
      "\n",
      "🎯 Your Code Output:\n",
      "----------------------------------------\n",
      "📊 Sample Data:\n",
      "      name  score  age\n",
      "0    Alice     85   25\n",
      "1      Bob     92   30\n",
      "2  Charlie     78   35\n",
      "3    David     88   28\n",
      "4      Eve     95   32\n",
      "\n",
      "📈 Statistics:\n",
      "Average score: 87.6\n",
      "Average age: 30.0\n",
      "Top performer: Eve\n",
      "\n",
      "----------------------------------------\n",
      "\n",
      "💡 Code executed: import pandas as pd\n",
      "import numpy as np\n",
      "\n",
      "# Create sample data\n",
      "data = pd.DataFrame({\n",
      "    'name': ['Ali\n"
     ]
    },
    {
     "data": {
      "text/plain": [
       "{'job_id': 'data_processing_1757643015',\n",
       " 'status': 'succeeded',\n",
       " 'start_time': 1757643015560,\n",
       " 'end_time': 1757643029935,\n",
       " 'metadata': {'notebook_path': 'data_processing_1757643015',\n",
       "  'code_preview': \"import pandas as pd\\nimport numpy as np\\n\\n# Create sample data\\ndata = pd.DataFrame({\\n    'name': ['Ali\"},\n",
       " 'logs': \"2025-09-11 19:10:15,573\\tINFO job_manager.py:530 -- Runtime env is setting up.\\n2025-09-11 19:10:26,601 - INFO - === Ray Job Monitor Started ===\\n2025-09-11 19:10:26,603 - INFO - Job ID: 03000000\\n2025-09-11 19:10:26,603 - INFO - Submission ID: unknown\\n2025-09-11 19:10:26,603 - INFO - Worker Queue: unknown\\n2025-09-11 19:10:26,603 - INFO - Worker Type: unknown\\n2025-09-11 19:10:26,603 - INFO - Hostname: a8642a7d9ec4\\n2025-09-11 19:10:26,604 - INFO - Function: main\\n2025-09-11 19:10:26,604 - INFO - Arguments: args=0, kwargs=[]\\n2025-09-11 19:10:26,640 - INFO - Status updated successfully: running\\n2025-09-11 19:10:26,641 - INFO - [CELL-EXECUTOR] Starting cell execution for: data_processing_1757643015\\n2025-09-11 19:10:26,641 - INFO - [CELL-EXECUTOR] Code preview: import pandas as pd\\nimport numpy as np\\n\\n# Create sample data\\ndata = pd.DataFrame({\\n    'name': ['Ali...\\n2025-09-11 19:10:26,641 - INFO - [CELL-EXECUTOR] Setting up execution environment...\\n2025-09-11 19:10:26,642 - INFO - [CELL-EXECUTOR] Executing cell code...\\n2025-09-11 19:10:28,491 - INFO - [CELL-EXECUTOR] Execution completed. Output length: 225, Images: 0\\n2025-09-11 19:10:28,492 - INFO - [CELL-EXECUTOR] Cell execution result: success\\n\\n=== USER OUTPUT ===\\n📊 Sample Data:\\n      name  score  age\\n0    Alice     85   25\\n1      Bob     92   30\\n2  Charlie     78   35\\n3    David     88   28\\n4      Eve     95   32\\n\\n📈 Statistics:\\nAverage score: 87.6\\nAverage age: 30.0\\nTop performer: Eve\\n\\n=== END OUTPUT ===\\n2025-09-11 19:10:29,594 - INFO - Status updated successfully: completed\\n2025-09-11 19:10:29,595 - INFO - === Ray Job Monitor Completed ===\\n2025-09-11 19:10:29,595 - INFO - Job 03000000 completed successfully in 2.97 seconds\\n2025-09-11 19:10:29,595 - INFO - [CELL-EXECUTOR] Ray cell execution completed with status: success\\n\"}"
      ]
     },
     "execution_count": 6,
     "metadata": {},
     "output_type": "execute_result"
    }
   ],
   "source": [
    "%%ray_exec --name data_processing\n",
    "import pandas as pd\n",
    "import numpy as np\n",
    "\n",
    "# Create sample data\n",
    "data = pd.DataFrame({\n",
    "    'name': ['Alice', 'Bob', 'Charlie', 'David', 'Eve'],\n",
    "    'score': [85, 92, 78, 88, 95],\n",
    "    'age': [25, 30, 35, 28, 32]\n",
    "})\n",
    "\n",
    "# Process data\n",
    "print(\"📊 Sample Data:\")\n",
    "print(data)\n",
    "print(f\"\\n📈 Statistics:\")\n",
    "print(f\"Average score: {data['score'].mean():.1f}\")\n",
    "print(f\"Average age: {data['age'].mean():.1f}\")\n",
    "print(f\"Top performer: {data.loc[data['score'].idxmax(), 'name']}\")"
   ]
  },
  {
   "cell_type": "markdown",
   "id": "cell-8",
   "metadata": {},
   "source": [
    "## Check Ray Cluster Status"
   ]
  },
  {
   "cell_type": "code",
   "execution_count": 10,
   "id": "cell-9",
   "metadata": {},
   "outputs": [
    {
     "name": "stdout",
     "output_type": "stream",
     "text": [
      "🟢 Ray Cluster Status: Available\n",
      "📊 Dashboard: http://ray-head:8265\n",
      "📋 Active Jobs: 17\n"
     ]
    }
   ],
   "source": [
    "# Check Ray cluster\n",
    "%ray_status"
   ]
  },
  {
   "cell_type": "markdown",
   "id": "cell-10",
   "metadata": {},
   "source": [
    "## List Ray Jobs"
   ]
  },
  {
   "cell_type": "code",
   "execution_count": 11,
   "id": "cell-11",
   "metadata": {},
   "outputs": [
    {
     "name": "stdout",
     "output_type": "stream",
     "text": [
      "📋 Ray Jobs (17 total):\n",
      "  • type=<JobType.SUBMISSION: 'SUBMISSION'> job_id=None submission_id='\"hello_ray5\"' driver_info=None status=<JobStatus.SUCCEEDED: 'SUCCEEDED'> entrypoint='python utils/cell_executor.py' message='Job finished successfully.' error_type=None start_time=1757642508766 end_time=1757642522349 metadata={'notebook_path': '\"hello_ray5\"', 'code_preview': '# This code runs on Ray cluster\\nimport numpy as np\\n\\n# Simple calculation\\nnumbers = [1, 2, 3, 4, 5]\\nr'} runtime_env={'working_dir': 'gcs://_ray_pkg_9922acd22bd257a5.zip', 'pip': {'packages': ['# Ray distributed computing', 'ray[default]==2.30.0', '', '# Scientific computing', 'numpy>=1.21.0', 'pandas>=1.3.0', 'matplotlib>=3.5.0', '# IPython magic commands support', 'ipython>=7.0.0'], 'pip_check': False}, 'env_vars': {'CELL_CODE': '# This code runs on Ray cluster\\nimport numpy as np\\n\\n# Simple calculation\\nnumbers = [1, 2, 3, 4, 5]\\nresult = sum(x**2 for x in numbers)\\n\\nprint(f\"Numbers: {numbers}\")\\nprint(f\"Sum of squares: {result}\")\\nprint(\"🚀 Computed on Ray cluster!\")\\n', 'NOTEBOOK_PATH': '\"hello_ray5\"'}, '_ray_commit': '97c37298df9e997b86ca9efed824e27024f3bd60'} driver_agent_http_address='http://172.18.0.3:52365' driver_node_id='4d24dbf5780059e3ee89cd5e8536a3eca98758cb24850752ea29e276' driver_exit_code=0: status unknown\n",
      "  • type=<JobType.SUBMISSION: 'SUBMISSION'> job_id=None submission_id='hello_ray_1757642916' driver_info=None status=<JobStatus.SUCCEEDED: 'SUCCEEDED'> entrypoint='python utils/cell_executor.py' message='Job finished successfully.' error_type=None start_time=1757642916971 end_time=1757642927901 metadata={'notebook_path': 'hello_ray_1757642916', 'code_preview': '# This code runs on Ray cluster\\nimport numpy as np\\n\\n# Simple calculation\\nnumbers = [1, 2, 3, 4, 5]\\nr'} runtime_env={'working_dir': 'gcs://_ray_pkg_185f0ed85a4a082b.zip', 'pip': {'packages': ['# Ray distributed computing', 'ray[default]==2.30.0', '', '# Scientific computing', 'numpy>=1.21.0', 'pandas>=1.3.0', 'matplotlib>=3.5.0', '# IPython magic commands support', 'ipython>=7.0.0'], 'pip_check': False}, 'env_vars': {'CELL_CODE': '# This code runs on Ray cluster\\nimport numpy as np\\n\\n# Simple calculation\\nnumbers = [1, 2, 3, 4, 5]\\nresult = sum(x**2 for x in numbers)\\n\\nprint(f\"Numbers: {numbers}\")\\nprint(f\"Sum of squares: {result}\")\\nprint(\"🚀 Computed on Ray cluster!\")\\n', 'NOTEBOOK_PATH': 'hello_ray_1757642916'}, '_ray_commit': '97c37298df9e997b86ca9efed824e27024f3bd60'} driver_agent_http_address='http://172.18.0.3:52365' driver_node_id='4d24dbf5780059e3ee89cd5e8536a3eca98758cb24850752ea29e276' driver_exit_code=0: status unknown\n",
      "  • type=<JobType.SUBMISSION: 'SUBMISSION'> job_id=None submission_id='\"hello_ray4\"' driver_info=None status=<JobStatus.SUCCEEDED: 'SUCCEEDED'> entrypoint='python utils/cell_executor.py' message='Job finished successfully.' error_type=None start_time=1757642288315 end_time=1757642299370 metadata={'notebook_path': '\"hello_ray4\"', 'code_preview': '# This code runs on Ray cluster\\nimport numpy as np\\n\\n# Simple calculation\\nnumbers = [1, 2, 3, 4, 5]\\nr'} runtime_env={'working_dir': 'gcs://_ray_pkg_e1a3a875d4bf382c.zip', 'pip': {'packages': ['# Ray distributed computing', 'ray[default]==2.30.0', '', '# Scientific computing', 'numpy>=1.21.0', 'pandas>=1.3.0', 'matplotlib>=3.5.0', '# IPython magic commands support', 'ipython>=7.0.0'], 'pip_check': False}, 'env_vars': {'CELL_CODE': '# This code runs on Ray cluster\\nimport numpy as np\\n\\n# Simple calculation\\nnumbers = [1, 2, 3, 4, 5]\\nresult = sum(x**2 for x in numbers)\\nresult\\n\\nprint(f\"Numbers: {numbers}\")\\nprint(f\"Sum of squares: {result}\")\\nprint(\"🚀 Computed on Ray cluster!\")\\n', 'NOTEBOOK_PATH': '\"hello_ray4\"'}, '_ray_commit': '97c37298df9e997b86ca9efed824e27024f3bd60'} driver_agent_http_address='http://172.18.0.3:52365' driver_node_id='4d24dbf5780059e3ee89cd5e8536a3eca98758cb24850752ea29e276' driver_exit_code=0: status unknown\n",
      "  • type=<JobType.SUBMISSION: 'SUBMISSION'> job_id='06000000' submission_id='parallel_task_1757643153' driver_info=DriverInfo(id='06000000', node_ip_address='172.18.0.3', pid='6525') status=<JobStatus.SUCCEEDED: 'SUCCEEDED'> entrypoint='python utils/cell_executor.py' message='Job finished successfully.' error_type=None start_time=1757643155352 end_time=1757643208874 metadata={'notebook_path': 'parallel_task_1757643153', 'code_preview': 'import ray\\nimport time\\n\\n# Initialize Ray\\nray.init(ignore_reinit_error=True)\\n\\n@ray.remote\\ndef compute'} runtime_env={'working_dir': 'gcs://_ray_pkg_ff296a0b88f65625.zip', 'pip': {'packages': ['# Ray distributed computing', 'ray[default]==2.30.0', '', '# Scientific computing', 'numpy>=1.21.0', 'pandas>=1.3.0', 'matplotlib>=3.5.0', '# IPython magic commands support', 'ipython>=7.0.0'], 'pip_check': False}, 'env_vars': {'CELL_CODE': 'import ray\\nimport time\\n\\n# Initialize Ray\\nray.init(ignore_reinit_error=True)\\n\\n@ray.remote\\ndef compute_square(x):\\n    time.sleep(0.1)  # Simulate work\\n    return x * x\\n\\n# Parallel computation\\nnumbers = [1, 2, 3, 4, 5, 6, 7, 8]\\nfutures = [compute_square.remote(x) for x in numbers]\\nresults = ray.get(futures)\\n\\nprint(f\"Input: {numbers}\")\\nprint(f\"Squares: {results}\")\\nprint(f\"✨ Computed {len(numbers)} squares in parallel!\")\\n\\nray.shutdown()\\n', 'NOTEBOOK_PATH': 'parallel_task_1757643153'}, '_ray_commit': '97c37298df9e997b86ca9efed824e27024f3bd60'} driver_agent_http_address='http://172.18.0.3:52365' driver_node_id='4d24dbf5780059e3ee89cd5e8536a3eca98758cb24850752ea29e276' driver_exit_code=0: status unknown\n",
      "  • type=<JobType.SUBMISSION: 'SUBMISSION'> job_id=None submission_id='\"hello_ray3\"' driver_info=None status=<JobStatus.SUCCEEDED: 'SUCCEEDED'> entrypoint='python utils/cell_executor.py' message='Job finished successfully.' error_type=None start_time=1757642190307 end_time=1757642202539 metadata={'notebook_path': '\"hello_ray3\"', 'code_preview': '# This code runs on Ray cluster\\nimport numpy as np\\n\\n# Simple calculation\\nnumbers = [1, 2, 3, 4, 5]\\nr'} runtime_env={'working_dir': 'gcs://_ray_pkg_e1a3a875d4bf382c.zip', 'pip': {'packages': ['# Ray distributed computing', 'ray[default]==2.30.0', '', '# Scientific computing', 'numpy>=1.21.0', 'pandas>=1.3.0', 'matplotlib>=3.5.0', '# IPython magic commands support', 'ipython>=7.0.0'], 'pip_check': False}, 'env_vars': {'CELL_CODE': '# This code runs on Ray cluster\\nimport numpy as np\\n\\n# Simple calculation\\nnumbers = [1, 2, 3, 4, 5]\\nresult = sum(x**2 for x in numbers)\\n\\nprint(f\"Numbers: {numbers}\")\\nprint(f\"Sum of squares: {result}\")\\nprint(\"🚀 Computed on Ray cluster!\")\\n', 'NOTEBOOK_PATH': '\"hello_ray3\"'}, '_ray_commit': '97c37298df9e997b86ca9efed824e27024f3bd60'} driver_agent_http_address='http://172.18.0.3:52365' driver_node_id='4d24dbf5780059e3ee89cd5e8536a3eca98758cb24850752ea29e276' driver_exit_code=0: status unknown\n",
      "  • type=<JobType.SUBMISSION: 'SUBMISSION'> job_id=None submission_id='hello_ray' driver_info=None status=<JobStatus.SUCCEEDED: 'SUCCEEDED'> entrypoint='python utils/cell_executor.py' message='Job finished successfully.' error_type=None start_time=1757642785098 end_time=1757642796370 metadata={'notebook_path': 'hello_ray', 'code_preview': '# This code runs on Ray cluster\\nimport numpy as np\\n\\n# Simple calculation\\nnumbers = [1, 2, 3, 4, 5]\\nr'} runtime_env={'working_dir': 'gcs://_ray_pkg_ea05bf57c025866f.zip', 'pip': {'packages': ['# Ray distributed computing', 'ray[default]==2.30.0', '', '# Scientific computing', 'numpy>=1.21.0', 'pandas>=1.3.0', 'matplotlib>=3.5.0', '# IPython magic commands support', 'ipython>=7.0.0'], 'pip_check': False}, 'env_vars': {'CELL_CODE': '# This code runs on Ray cluster\\nimport numpy as np\\n\\n# Simple calculation\\nnumbers = [1, 2, 3, 4, 5]\\nresult = sum(x**2 for x in numbers)\\n\\nprint(f\"Numbers: {numbers}\")\\nprint(f\"Sum of squares: {result}\")\\nprint(\"🚀 Computed on Ray cluster!\")\\n', 'NOTEBOOK_PATH': 'hello_ray'}, '_ray_commit': '97c37298df9e997b86ca9efed824e27024f3bd60'} driver_agent_http_address='http://172.18.0.3:52365' driver_node_id='4d24dbf5780059e3ee89cd5e8536a3eca98758cb24850752ea29e276' driver_exit_code=0: status unknown\n",
      "  • type=<JobType.SUBMISSION: 'SUBMISSION'> job_id=None submission_id='hello_ray_1757642953' driver_info=None status=<JobStatus.SUCCEEDED: 'SUCCEEDED'> entrypoint='python utils/cell_executor.py' message='Job finished successfully.' error_type=None start_time=1757642953870 end_time=1757642964692 metadata={'notebook_path': 'hello_ray_1757642953', 'code_preview': '# This code runs on Ray cluster\\nimport numpy as np\\n\\n# Simple calculation\\nnumbers = [1, 2, 3, 4, 5]\\nr'} runtime_env={'working_dir': 'gcs://_ray_pkg_185f0ed85a4a082b.zip', 'pip': {'packages': ['# Ray distributed computing', 'ray[default]==2.30.0', '', '# Scientific computing', 'numpy>=1.21.0', 'pandas>=1.3.0', 'matplotlib>=3.5.0', '# IPython magic commands support', 'ipython>=7.0.0'], 'pip_check': False}, 'env_vars': {'CELL_CODE': '# This code runs on Ray cluster\\nimport numpy as np\\n\\n# Simple calculation\\nnumbers = [1, 2, 3, 4, 5]\\nresult = sum(x**2 for x in numbers)\\n\\nprint(f\"Numbers: {numbers}\")\\nprint(f\"Sum of squares: {result}\")\\nprint(\"🚀 Computed on Ray cluster!\")\\n\\nresult\\n', 'NOTEBOOK_PATH': 'hello_ray_1757642953'}, '_ray_commit': '97c37298df9e997b86ca9efed824e27024f3bd60'} driver_agent_http_address='http://172.18.0.3:52365' driver_node_id='4d24dbf5780059e3ee89cd5e8536a3eca98758cb24850752ea29e276' driver_exit_code=0: status unknown\n",
      "  • type=<JobType.SUBMISSION: 'SUBMISSION'> job_id=None submission_id='\"hello_ray2\"' driver_info=None status=<JobStatus.SUCCEEDED: 'SUCCEEDED'> entrypoint='python utils/cell_executor.py' message='Job finished successfully.' error_type=None start_time=1757641713517 end_time=1757641723862 metadata={'notebook_path': '\"hello_ray2\"', 'code_preview': '# This code runs on Ray cluster\\nimport numpy as np\\n\\n# Simple calculation\\nnumbers = [1, 2, 3, 4, 5]\\nr'} runtime_env={'working_dir': 'gcs://_ray_pkg_89ee8459c185c93f.zip', 'pip': {'packages': ['# Ray distributed computing', 'ray[default]==2.30.0', '', '# Scientific computing', 'numpy>=1.21.0', 'pandas>=1.3.0', 'matplotlib>=3.5.0', '# IPython magic commands support', 'ipython>=7.0.0'], 'pip_check': False}, 'env_vars': {'CELL_CODE': '# This code runs on Ray cluster\\nimport numpy as np\\n\\n# Simple calculation\\nnumbers = [1, 2, 3, 4, 5]\\nresult = sum(x**2 for x in numbers)\\n\\nprint(f\"Numbers: {numbers}\")\\nprint(f\"Sum of squares: {result}\")\\nprint(\"🚀 Computed on Ray cluster!\")\\n', 'NOTEBOOK_PATH': '\"hello_ray2\"'}, '_ray_commit': '97c37298df9e997b86ca9efed824e27024f3bd60'} driver_agent_http_address='http://172.18.0.3:52365' driver_node_id='4d24dbf5780059e3ee89cd5e8536a3eca98758cb24850752ea29e276' driver_exit_code=0: status unknown\n",
      "  • type=<JobType.SUBMISSION: 'SUBMISSION'> job_id=None submission_id='\"hello_ray1\"' driver_info=None status=<JobStatus.SUCCEEDED: 'SUCCEEDED'> entrypoint='python utils/cell_executor.py' message='Job finished successfully.' error_type=None start_time=1757641446174 end_time=1757641531251 metadata={'notebook_path': '\"hello_ray1\"', 'code_preview': '# This code runs on Ray cluster\\nimport numpy as np\\n\\n# Simple calculation\\nnumbers = [1, 2, 3, 4, 5]\\nr'} runtime_env={'working_dir': 'gcs://_ray_pkg_ee727065bcd28cee.zip', 'pip': {'packages': ['# Ray distributed computing', 'ray[default]==2.30.0', '', '# Scientific computing', 'numpy>=1.21.0', 'pandas>=1.3.0', 'matplotlib>=3.5.0', '# IPython magic commands support', 'ipython>=7.0.0'], 'pip_check': False}, 'env_vars': {'CELL_CODE': '# This code runs on Ray cluster\\nimport numpy as np\\n\\n# Simple calculation\\nnumbers = [1, 2, 3, 4, 5]\\nresult = sum(x**2 for x in numbers)\\n\\nprint(f\"Numbers: {numbers}\")\\nprint(f\"Sum of squares: {result}\")\\nprint(\"🚀 Computed on Ray cluster!\")\\n', 'NOTEBOOK_PATH': '\"hello_ray1\"'}, '_ray_commit': '97c37298df9e997b86ca9efed824e27024f3bd60'} driver_agent_http_address='http://172.18.0.3:52365' driver_node_id='4d24dbf5780059e3ee89cd5e8536a3eca98758cb24850752ea29e276' driver_exit_code=0: status unknown\n",
      "  • type=<JobType.SUBMISSION: 'SUBMISSION'> job_id=None submission_id='data_processing_1757643000' driver_info=None status=<JobStatus.SUCCEEDED: 'SUCCEEDED'> entrypoint='python utils/cell_executor.py' message='Job finished successfully.' error_type=None start_time=1757643001012 end_time=1757643014440 metadata={'notebook_path': 'data_processing_1757643000', 'code_preview': \"import pandas as pd\\nimport numpy as np\\n\\n# Create sample data\\ndata = pd.DataFrame({\\n    'name': ['Ali\"} runtime_env={'working_dir': 'gcs://_ray_pkg_185f0ed85a4a082b.zip', 'pip': {'packages': ['# Ray distributed computing', 'ray[default]==2.30.0', '', '# Scientific computing', 'numpy>=1.21.0', 'pandas>=1.3.0', 'matplotlib>=3.5.0', '# IPython magic commands support', 'ipython>=7.0.0'], 'pip_check': False}, 'env_vars': {'CELL_CODE': 'import pandas as pd\\nimport numpy as np\\n\\n# Create sample data\\ndata = pd.DataFrame({\\n    \\'name\\': [\\'Alice\\', \\'Bob\\', \\'Charlie\\', \\'David\\', \\'Eve\\'],\\n    \\'score\\': [85, 92, 78, 88, 95],\\n    \\'age\\': [25, 30, 35, 28, 32]\\n})\\n\\n# Process data\\nprint(\"📊 Sample Data:\")\\nprint(data)\\nprint(f\"\\\\n📈 Statistics:\")\\nprint(f\"Average score: {data[\\'score\\'].mean():.1f}\")\\nprint(f\"Average age: {data[\\'age\\'].mean():.1f}\")\\nprint(f\"Top performer: {data.loc[data[\\'score\\'].idxmax(), \\'name\\']}\")\\n', 'NOTEBOOK_PATH': 'data_processing_1757643000'}, '_ray_commit': '97c37298df9e997b86ca9efed824e27024f3bd60'} driver_agent_http_address='http://172.18.0.3:52365' driver_node_id='4d24dbf5780059e3ee89cd5e8536a3eca98758cb24850752ea29e276' driver_exit_code=0: status unknown\n",
      "  • type=<JobType.SUBMISSION: 'SUBMISSION'> job_id=None submission_id='data_processing_1757643015' driver_info=None status=<JobStatus.SUCCEEDED: 'SUCCEEDED'> entrypoint='python utils/cell_executor.py' message='Job finished successfully.' error_type=None start_time=1757643015560 end_time=1757643029935 metadata={'notebook_path': 'data_processing_1757643015', 'code_preview': \"import pandas as pd\\nimport numpy as np\\n\\n# Create sample data\\ndata = pd.DataFrame({\\n    'name': ['Ali\"} runtime_env={'working_dir': 'gcs://_ray_pkg_185f0ed85a4a082b.zip', 'pip': {'packages': ['# Ray distributed computing', 'ray[default]==2.30.0', '', '# Scientific computing', 'numpy>=1.21.0', 'pandas>=1.3.0', 'matplotlib>=3.5.0', '# IPython magic commands support', 'ipython>=7.0.0'], 'pip_check': False}, 'env_vars': {'CELL_CODE': 'import pandas as pd\\nimport numpy as np\\n\\n# Create sample data\\ndata = pd.DataFrame({\\n    \\'name\\': [\\'Alice\\', \\'Bob\\', \\'Charlie\\', \\'David\\', \\'Eve\\'],\\n    \\'score\\': [85, 92, 78, 88, 95],\\n    \\'age\\': [25, 30, 35, 28, 32]\\n})\\n\\n# Process data\\nprint(\"📊 Sample Data:\")\\nprint(data)\\nprint(f\"\\\\n📈 Statistics:\")\\nprint(f\"Average score: {data[\\'score\\'].mean():.1f}\")\\nprint(f\"Average age: {data[\\'age\\'].mean():.1f}\")\\nprint(f\"Top performer: {data.loc[data[\\'score\\'].idxmax(), \\'name\\']}\")\\n', 'NOTEBOOK_PATH': 'data_processing_1757643015'}, '_ray_commit': '97c37298df9e997b86ca9efed824e27024f3bd60'} driver_agent_http_address='http://172.18.0.3:52365' driver_node_id='4d24dbf5780059e3ee89cd5e8536a3eca98758cb24850752ea29e276' driver_exit_code=0: status unknown\n",
      "  • type=<JobType.SUBMISSION: 'SUBMISSION'> job_id=None submission_id='raysubmit_9EdqxLni82jHjGT4' driver_info=None status=<JobStatus.FAILED: 'FAILED'> entrypoint='python github_job_runner.py' message='runtime_env setup failed: Failed to set up runtime environment.\\nCould not create the actor because its associated runtime env failed to be created.\\nTraceback (most recent call last):\\n  File \"/home/ray/anaconda3/lib/python3.9/site-packages/urllib3/connection.py\", line 174, in _new_conn\\n    conn = connection.create_connection(\\n  File \"/home/ray/anaconda3/lib/python3.9/site-packages/urllib3/util/connection.py\", line 72, in create_connection\\n    for res in socket.getaddrinfo(host, port, family, socket.SOCK_STREAM):\\n  File \"/home/ray/anaconda3/lib/python3.9/socket.py\", line 954, in getaddrinfo\\n    for res in _socket.getaddrinfo(host, port, family, type, proto, flags):\\nsocket.gaierror: [Errno -2] Name or service not known\\n\\nDuring handling of the above exception, another exception occurred:\\n\\nTraceback (most recent call last):\\n  File \"/home/ray/anaconda3/lib/python3.9/site-packages/urllib3/connectionpool.py\", line 715, in urlopen\\n    httplib_response = self._make_request(\\n  File \"/home/ray/anaconda3/lib/python3.9/site-packages/urllib3/connectionpool.py\", line 404, in _make_request\\n    self._validate_conn(conn)\\n  File \"/home/ray/anaconda3/lib/python3.9/site-packages/urllib3/connectionpool.py\", line 1058, in _validate_conn\\n    conn.connect()\\n  File \"/home/ray/anaconda3/lib/python3.9/site-packages/urllib3/connection.py\", line 363, in connect\\n    self.sock = conn = self._new_conn()\\n  File \"/home/ray/anaconda3/lib/python3.9/site-packages/urllib3/connection.py\", line 186, in _new_conn\\n    raise NewConnectionError(\\nurllib3.exceptions.NewConnectionError: <urllib3.connection.HTTPSConnection object at 0x2aab059d29a0>: Failed to establish a new connection: [Errno -2] Name or service not known\\n\\nDuring handling of the above exception, another exception occurred:\\n\\nTraceback (most recent call last):\\n  File \"/home/ray/anaconda3/lib/python3.9/site-packages/requests/adapters.py\", line 486, in send\\n    resp = conn.urlopen(\\n  File \"/home/ray/anaconda3/lib/python3.9/site-packages/urllib3/connectionpool.py\", line 799, in urlopen\\n    retries = retries.increment(\\n  File \"/home/ray/anaconda3/lib/python3.9/site-packages/urllib3/util/retry.py\", line 592, in increment\\n    raise MaxRetryError(_pool, url, error or ResponseError(cause))\\nurllib3.exceptions.MaxRetryError: HTTPSConnectionPool(host=\\'github.com\\', port=443): Max retries exceeded with url: /daiyanzhang/ray-job-examples/archive/refs/heads/main.zip (Caused by NewConnectionError(\\'<urllib3.connection.HTTPSConnection object at 0x2aab059d29a0>: Failed to establish a new connection: [Errno -2] Name or service not known\\'))\\n\\nDuring handling of the above exception, another exception occurred:\\n\\nTraceback (most recent call last):\\n  File \"/home/ray/anaconda3/lib/python3.9/site-packages/ray/_private/runtime_env/agent/runtime_env_agent.py\", line 393, in _create_runtime_env_with_retry\\n    runtime_env_context = await asyncio.wait_for(\\n  File \"/home/ray/anaconda3/lib/python3.9/asyncio/tasks.py\", line 479, in wait_for\\n    return fut.result()\\n  File \"/home/ray/anaconda3/lib/python3.9/site-packages/ray/_private/runtime_env/agent/runtime_env_agent.py\", line 336, in _setup_runtime_env\\n    await create_for_plugin_if_needed(\\n  File \"/home/ray/anaconda3/lib/python3.9/site-packages/ray/_private/runtime_env/plugin.py\", line 254, in create_for_plugin_if_needed\\n    size_bytes = await plugin.create(uri, runtime_env, context, logger=logger)\\n  File \"/home/ray/anaconda3/lib/python3.9/site-packages/ray/_private/runtime_env/working_dir.py\", line 163, in create\\n    local_dir = await download_and_unpack_package(\\n  File \"/home/ray/anaconda3/lib/python3.9/site-packages/ray/_private/runtime_env/packaging.py\", line 738, in download_and_unpack_package\\n    with open_file(pkg_uri, \"rb\", transport_params=tp) as package_zip:\\n  File \"/home/ray/anaconda3/lib/python3.9/site-packages/smart_open/smart_open_lib.py\", line 224, in open\\n    binary = _open_binary_stream(uri, binary_mode, transport_params)\\n  File \"/home/ray/anaconda3/lib/python3.9/site-packages/smart_open/smart_open_lib.py\", line 400, in _open_binary_stream\\n    fobj = submodule.open_uri(uri, mode, transport_params)\\n  File \"/home/ray/anaconda3/lib/python3.9/site-packages/smart_open/http.py\", line 49, in open_uri\\n    return open(uri, mode, **kwargs)\\n  File \"/home/ray/anaconda3/lib/python3.9/site-packages/smart_open/http.py\", line 84, in open\\n    fobj = SeekableBufferedInputBase(\\n  File \"/home/ray/anaconda3/lib/python3.9/site-packages/smart_open/http.py\", line 246, in __init__\\n    self.response = self._partial_request()\\n  File \"/home/ray/anaconda3/lib/python3.9/site-packages/smart_open/http.py\", line 333, in _partial_request\\n    response = requests.get(\\n  File \"/home/ray/anaconda3/lib/python3.9/site-packages/requests/api.py\", line 73, in get\\n    return request(\"get\", url, params=params, **kwargs)\\n  File \"/home/ray/anaconda3/lib/python3.9/site-packages/requests/api.py\", line 59, in request\\n    return session.request(method=method, url=url, **kwargs)\\n  File \"/home/ray/anaconda3/lib/python3.9/site-packages/requests/sessions.py\", line 589, in request\\n    resp = self.send(prep, **send_kwargs)\\n  File \"/home/ray/anaconda3/lib/python3.9/site-packages/requests/sessions.py\", line 703, in send\\n    r = adapter.send(request, **kwargs)\\n  File \"/home/ray/anaconda3/lib/python3.9/site-packages/requests/adapters.py\", line 519, in send\\n    raise ConnectionError(e, request=request)\\nrequests.exceptions.ConnectionError: HTTPSConnectionPool(host=\\'github.com\\', port=443): Max retries exceeded with url: /daiyanzhang/ray-job-examples/archive/refs/heads/main.zip (Caused by NewConnectionError(\\'<urllib3.connection.HTTPSConnection object at 0x2aab059d29a0>: Failed to establish a new connection: [Errno -2] Name or service not known\\'))\\n' error_type=None start_time=1757625140618 end_time=1757625145743 metadata={'internal_job_id': 'ray_job_1145b19f', 'queue': 'gpu'} runtime_env={'working_dir': 'https://github.com/daiyanzhang/ray-job-examples/archive/refs/heads/main.zip', 'pip': {'packages': ['# FastAPI和相关依赖', 'fastapi==0.104.1', 'uvicorn[standard]==0.24.0', 'pydantic[email]==2.5.0', 'pydantic-settings==2.1.0', '', '# 数据库相关', 'sqlalchemy==2.0.23', 'alembic==1.13.0', 'asyncpg==0.29.0', 'psycopg2-binary==2.9.9', '# 认证和安全', 'python-jose[cryptography]==3.3.0', 'passlib[bcrypt]==1.7.4', 'python-multipart==0.0.6', '# HTTP客户端和工具', 'httpx==0.25.2', 'requests==2.31.0', '# 开发和测试', 'pytest==7.4.3', 'pytest-asyncio==0.21.1', 'pytest-cov==4.1.0', 'black==23.11.0', 'isort==5.12.0', 'flake8==6.1.0', '# 其他工具', 'python-dotenv==1.0.0', 'redis==5.0.1', '# Temporal工作流引擎', 'temporalio==1.6.0', '# Ray分布式计算', 'ray[default,client]==2.30.0', 'numpy==1.24.3', 'scikit-learn==1.3.2', '# Jupyter notebook执行', 'jupyter==1.0.0', 'nbformat==5.9.2', 'nbconvert==7.11.0', 'ipykernel==6.26.0'], 'pip_check': False}, 'env_vars': {'RAY_JOB_CONFIG': '{}', 'RAY_JOB_ID': 'ray_job_1145b19f', 'RAY_JOB_TYPE': 'github_job', 'ENTRY_POINT': 'examples/machine-learning/main.py'}, '_ray_commit': '97c37298df9e997b86ca9efed824e27024f3bd60'} driver_agent_http_address=None driver_node_id=None driver_exit_code=None: status unknown\n",
      "  • type=<JobType.SUBMISSION: 'SUBMISSION'> job_id='04000000' submission_id='parallel_task_1757643031' driver_info=DriverInfo(id='04000000', node_ip_address='172.18.0.3', pid='5321') status=<JobStatus.SUCCEEDED: 'SUCCEEDED'> entrypoint='python utils/cell_executor.py' message='Job finished successfully.' error_type=None start_time=1757643032056 end_time=1757643178126 metadata={'notebook_path': 'parallel_task_1757643031', 'code_preview': 'import ray\\nimport time\\n\\n# Initialize Ray\\nray.init(ignore_reinit_error=True)\\n\\n@ray.remote\\ndef compute'} runtime_env={'working_dir': 'gcs://_ray_pkg_185f0ed85a4a082b.zip', 'pip': {'packages': ['# Ray distributed computing', 'ray[default]==2.30.0', '', '# Scientific computing', 'numpy>=1.21.0', 'pandas>=1.3.0', 'matplotlib>=3.5.0', '# IPython magic commands support', 'ipython>=7.0.0'], 'pip_check': False}, 'env_vars': {'CELL_CODE': 'import ray\\nimport time\\n\\n# Initialize Ray\\nray.init(ignore_reinit_error=True)\\n\\n@ray.remote\\ndef compute_square(x):\\n    time.sleep(0.1)  # Simulate work\\n    return x * x\\n\\n# Parallel computation\\nnumbers = [1, 2, 3, 4, 5, 6, 7, 8]\\nfutures = [compute_square.remote(x) for x in numbers]\\nresults = ray.get(futures)\\n\\nprint(f\"Input: {numbers}\")\\nprint(f\"Squares: {results}\")\\nprint(f\"✨ Computed {len(numbers)} squares in parallel!\")\\n\\nray.shutdown()\\n', 'NOTEBOOK_PATH': 'parallel_task_1757643031'}, '_ray_commit': '97c37298df9e997b86ca9efed824e27024f3bd60'} driver_agent_http_address='http://172.18.0.3:52365' driver_node_id='4d24dbf5780059e3ee89cd5e8536a3eca98758cb24850752ea29e276' driver_exit_code=0: status unknown\n",
      "  • type=<JobType.SUBMISSION: 'SUBMISSION'> job_id='05000000' submission_id='parallel_task_1757643093' driver_info=DriverInfo(id='05000000', node_ip_address='172.18.0.3', pid='5786') status=<JobStatus.SUCCEEDED: 'SUCCEEDED'> entrypoint='python utils/cell_executor.py' message='Job finished successfully.' error_type=None start_time=1757643093594 end_time=1757643178403 metadata={'notebook_path': 'parallel_task_1757643093', 'code_preview': 'import ray\\nimport time\\n\\n# Initialize Ray\\nray.init(ignore_reinit_error=True)\\n\\n@ray.remote\\ndef compute'} runtime_env={'working_dir': 'gcs://_ray_pkg_ff296a0b88f65625.zip', 'pip': {'packages': ['# Ray distributed computing', 'ray[default]==2.30.0', '', '# Scientific computing', 'numpy>=1.21.0', 'pandas>=1.3.0', 'matplotlib>=3.5.0', '# IPython magic commands support', 'ipython>=7.0.0'], 'pip_check': False}, 'env_vars': {'CELL_CODE': 'import ray\\nimport time\\n\\n# Initialize Ray\\nray.init(ignore_reinit_error=True)\\n\\n@ray.remote\\ndef compute_square(x):\\n    time.sleep(0.1)  # Simulate work\\n    return x * x\\n\\n# Parallel computation\\nnumbers = [1, 2, 3, 4, 5, 6, 7, 8]\\nfutures = [compute_square.remote(x) for x in numbers]\\nresults = ray.get(futures)\\n\\nprint(f\"Input: {numbers}\")\\nprint(f\"Squares: {results}\")\\nprint(f\"✨ Computed {len(numbers)} squares in parallel!\")\\n\\nray.shutdown()\\n', 'NOTEBOOK_PATH': 'parallel_task_1757643093'}, '_ray_commit': '97c37298df9e997b86ca9efed824e27024f3bd60'} driver_agent_http_address='http://172.18.0.3:52365' driver_node_id='4d24dbf5780059e3ee89cd5e8536a3eca98758cb24850752ea29e276' driver_exit_code=0: status unknown\n",
      "  • type=<JobType.SUBMISSION: 'SUBMISSION'> job_id=None submission_id='hello_ray5' driver_info=None status=<JobStatus.SUCCEEDED: 'SUCCEEDED'> entrypoint='python utils/cell_executor.py' message='Job finished successfully.' error_type=None start_time=1757642702140 end_time=1757642714534 metadata={'notebook_path': 'hello_ray5', 'code_preview': '# This code runs on Ray cluster\\nimport numpy as np\\n\\n# Simple calculation\\nnumbers = [1, 2, 3, 4, 5]\\nr'} runtime_env={'working_dir': 'gcs://_ray_pkg_8bcf0531355d3b64.zip', 'pip': {'packages': ['# Ray distributed computing', 'ray[default]==2.30.0', '', '# Scientific computing', 'numpy>=1.21.0', 'pandas>=1.3.0', 'matplotlib>=3.5.0', '# IPython magic commands support', 'ipython>=7.0.0'], 'pip_check': False}, 'env_vars': {'CELL_CODE': '# This code runs on Ray cluster\\nimport numpy as np\\n\\n# Simple calculation\\nnumbers = [1, 2, 3, 4, 5]\\nresult = sum(x**2 for x in numbers)\\n\\nprint(f\"Numbers: {numbers}\")\\nprint(f\"Sum of squares: {result}\")\\nprint(\"🚀 Computed on Ray cluster!\")\\n', 'NOTEBOOK_PATH': 'hello_ray5'}, '_ray_commit': '97c37298df9e997b86ca9efed824e27024f3bd60'} driver_agent_http_address='http://172.18.0.3:52365' driver_node_id='4d24dbf5780059e3ee89cd5e8536a3eca98758cb24850752ea29e276' driver_exit_code=0: status unknown\n",
      "  • type=<JobType.SUBMISSION: 'SUBMISSION'> job_id=None submission_id='\"hello_ray\"' driver_info=None status=<JobStatus.FAILED: 'FAILED'> entrypoint='python utils/cell_executor.py' message='runtime_env setup failed: Failed to set up runtime environment.\\nCould not create the actor because its associated runtime env failed to be created.\\nTraceback (most recent call last):\\n  File \"/home/ray/anaconda3/lib/python3.9/site-packages/ray/_private/runtime_env/agent/runtime_env_agent.py\", line 393, in _create_runtime_env_with_retry\\n    runtime_env_context = await asyncio.wait_for(\\n  File \"/home/ray/anaconda3/lib/python3.9/asyncio/tasks.py\", line 479, in wait_for\\n    return fut.result()\\n  File \"/home/ray/anaconda3/lib/python3.9/site-packages/ray/_private/runtime_env/agent/runtime_env_agent.py\", line 354, in _setup_runtime_env\\n    await create_for_plugin_if_needed(\\n  File \"/home/ray/anaconda3/lib/python3.9/site-packages/ray/_private/runtime_env/plugin.py\", line 254, in create_for_plugin_if_needed\\n    size_bytes = await plugin.create(uri, runtime_env, context, logger=logger)\\n  File \"/home/ray/anaconda3/lib/python3.9/site-packages/ray/_private/runtime_env/pip.py\", line 518, in create\\n    bytes = await task\\n  File \"/home/ray/anaconda3/lib/python3.9/site-packages/ray/_private/runtime_env/pip.py\", line 498, in _create_for_hash\\n    await PipProcessor(\\n  File \"/home/ray/anaconda3/lib/python3.9/site-packages/ray/_private/runtime_env/pip.py\", line 400, in _run\\n    await self._install_pip_packages(\\n  File \"/home/ray/anaconda3/lib/python3.9/site-packages/ray/_private/runtime_env/pip.py\", line 376, in _install_pip_packages\\n    await check_output_cmd(pip_install_cmd, logger=logger, cwd=cwd, env=pip_env)\\n  File \"/home/ray/anaconda3/lib/python3.9/site-packages/ray/_private/runtime_env/utils.py\", line 105, in check_output_cmd\\n    raise SubprocessCalledProcessError(\\nray._private.runtime_env.utils.SubprocessCalledProcessError: Run cmd[9] failed with the following details.\\nCommand \\'[\\'/tmp/ray/session_2025-09-11_14-09-45_426608_8/runtime_resources/pip/5c61a223a94b041d50e83098b08b25bf65a384db/virtualenv/bin/python\\', \\'-m\\', \\'pip\\', \\'install\\', \\'--disable-pip-version-check\\', \\'--no-cache-dir\\', \\'-r\\', \\'/tmp/ray/session_2025-09-11_14-09-45_426608_8/runtime_resources/pip/5c61a223a94b041d50e83098b08b25bf65a384db/ray_runtime_env_internal_pip_requirements.txt\\']\\' returned non-zero exit status 1.\\nLast 50 lines of stdout:\\n    ERROR: Could not find a version that satisfies the requirement requirements.txt (from versions: none)\\n    HINT: You are attempting to install a package literally named \"requirements.txt\" (which cannot exist). Consider using the \\'-r\\' flag to install the packages listed in requirements.txt\\n    ERROR: No matching distribution found for requirements.txt\\n' error_type=None start_time=1757638320871 end_time=1757638372256 metadata={'notebook_path': '\"hello_ray\"', 'code_preview': '# This code runs on Ray cluster\\nimport numpy as np\\n\\n# Simple calculation\\nnumbers = [1, 2, 3, 4, 5]\\nr'} runtime_env={'working_dir': 'gcs://_ray_pkg_73eb97e988ce4cbb.zip', 'pip': {'packages': ['requirements.txt'], 'pip_check': False}, 'env_vars': {'CELL_CODE': '# This code runs on Ray cluster\\nimport numpy as np\\n\\n# Simple calculation\\nnumbers = [1, 2, 3, 4, 5]\\nresult = sum(x**2 for x in numbers)\\n\\nprint(f\"Numbers: {numbers}\")\\nprint(f\"Sum of squares: {result}\")\\nprint(\"🚀 Computed on Ray cluster!\")\\n', 'NOTEBOOK_PATH': '\"hello_ray\"'}, '_ray_commit': '97c37298df9e997b86ca9efed824e27024f3bd60'} driver_agent_http_address=None driver_node_id=None driver_exit_code=None: status unknown\n",
      "  • type=<JobType.SUBMISSION: 'SUBMISSION'> job_id=None submission_id='hello_ray_1757642988' driver_info=None status=<JobStatus.SUCCEEDED: 'SUCCEEDED'> entrypoint='python utils/cell_executor.py' message='Job finished successfully.' error_type=None start_time=1757642988491 end_time=1757642999476 metadata={'notebook_path': 'hello_ray_1757642988', 'code_preview': '# This code runs on Ray cluster\\nimport numpy as np\\n\\n# Simple calculation\\nnumbers = [1, 2, 3, 4, 5]\\nr'} runtime_env={'working_dir': 'gcs://_ray_pkg_185f0ed85a4a082b.zip', 'pip': {'packages': ['# Ray distributed computing', 'ray[default]==2.30.0', '', '# Scientific computing', 'numpy>=1.21.0', 'pandas>=1.3.0', 'matplotlib>=3.5.0', '# IPython magic commands support', 'ipython>=7.0.0'], 'pip_check': False}, 'env_vars': {'CELL_CODE': '# This code runs on Ray cluster\\nimport numpy as np\\n\\n# Simple calculation\\nnumbers = [1, 2, 3, 4, 5]\\nresult = sum(x**2 for x in numbers)\\n\\nprint(f\"Numbers: {numbers}\")\\nprint(f\"Sum of squares: {result}\")\\nprint(\"🚀 Computed on Ray cluster!\")\\n', 'NOTEBOOK_PATH': 'hello_ray_1757642988'}, '_ray_commit': '97c37298df9e997b86ca9efed824e27024f3bd60'} driver_agent_http_address='http://172.18.0.3:52365' driver_node_id='4d24dbf5780059e3ee89cd5e8536a3eca98758cb24850752ea29e276' driver_exit_code=0: status unknown\n"
     ]
    }
   ],
   "source": [
    "# List all Ray jobs\n",
    "%ray_jobs"
   ]
  },
  {
   "cell_type": "markdown",
   "id": "cell-12",
   "metadata": {},
   "source": [
    "---\n",
    "\n",
    "## 🎯 That's it!\n",
    "\n",
    "### Key Points:\n",
    "- **`%%ray_exec`** runs your code on Ray cluster\n",
    "- **Automatic output capture** shows results in notebook\n",
    "- **Distributed computing** scales to large datasets\n",
    "- **Simple syntax** - just add `%%ray_exec` to any cell!\n",
    "\n",
    "### Next Steps:\n",
    "- Try your own calculations with `%%ray_exec`\n",
    "- Scale up to larger datasets\n",
    "- Use multiple Ray workers for parallel processing"
   ]
  }
 ],
 "metadata": {
  "kernelspec": {
   "display_name": "Python 3 (ipykernel)",
   "language": "python",
   "name": "python3"
  },
  "language_info": {
   "codemirror_mode": {
    "name": "ipython",
    "version": 3
   },
   "file_extension": ".py",
   "mimetype": "text/x-python",
   "name": "python",
   "nbconvert_exporter": "python",
   "pygments_lexer": "ipython3",
   "version": "3.11.6"
  }
 },
 "nbformat": 4,
 "nbformat_minor": 5
}
